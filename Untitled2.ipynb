{
 "cells": [
  {
   "cell_type": "code",
   "execution_count": 11,
   "metadata": {},
   "outputs": [],
   "source": [
    "import tensorflow as tf\n",
    "from tensorflow.keras import layers, models\n",
    "import matplotlib.pyplot as plt\n",
    "from os import listdir\n",
    "from os.path import isfile\n",
    "import os\n",
    "import numpy as np\n",
    "import json\n",
    "import collections\n",
    "from PIL import Image"
   ]
  },
  {
   "cell_type": "code",
   "execution_count": 2,
   "metadata": {},
   "outputs": [],
   "source": [
    "test_path='singleTest'"
   ]
  },
  {
   "cell_type": "code",
   "execution_count": 3,
   "metadata": {},
   "outputs": [],
   "source": [
    "model = tf.keras.models.load_model('proj8')"
   ]
  },
  {
   "cell_type": "code",
   "execution_count": 4,
   "metadata": {},
   "outputs": [],
   "source": [
    "test_fname=[f for f in listdir(test_path) if isfile(os.path.join(test_path, f))]"
   ]
  },
  {
   "cell_type": "code",
   "execution_count": 5,
   "metadata": {},
   "outputs": [],
   "source": [
    "if not os.path.isdir(os.path.join(test_path,'results')):\n",
    "    os.mkdir(os.path.join(test_path,'results'))"
   ]
  },
  {
   "cell_type": "code",
   "execution_count": 6,
   "metadata": {},
   "outputs": [],
   "source": [
    "temporal_dim=20\n",
    "def process_points_to_np(klist,convert_to_local=True):\n",
    "    new_list=[]\n",
    "    for i in range(len(klist)):\n",
    "        if i%3==0: #x\n",
    "            if convert_to_local:\n",
    "                if klist[i]==0:\n",
    "                    new_list.append(klist[i])\n",
    "                else:\n",
    "                    new_list.append(klist[i]-klist[0])\n",
    "            else:\n",
    "                new_list.append(klist[i])\n",
    "        elif i%3 ==1:\n",
    "            if convert_to_local:\n",
    "                if klist[i]==0:\n",
    "                    new_list.append(klist[i])\n",
    "                else:\n",
    "                    new_list.append(klist[i]-klist[1])\n",
    "            else:\n",
    "                new_list.append(klist[i])\n",
    "        else:\n",
    "            continue\n",
    "    return np.array(new_list)"
   ]
  },
  {
   "cell_type": "code",
   "execution_count": 7,
   "metadata": {},
   "outputs": [],
   "source": [
    "def process_one_file(fpath,json_dir,temporal_dimension=10):\n",
    "    fname=os.path.basename(fpath)\n",
    "    fname=fname[:fname.rfind('.')]\n",
    "    print(fname,json_dir)\n",
    "    json_fname = [f for f in listdir(json_dir) if isfile(os.path.join(json_dir, f)) and f.startswith(fname)]\n",
    "    #print(json_fname)\n",
    "    if len(json_fname)==0:\n",
    "        print('Warning: No json file found for '+fpath)\n",
    "        return None\n",
    "    d={}\n",
    "    for o in json_fname:\n",
    "        bar_pos=o.rfind('_')\n",
    "        d[o]=int(o[bar_pos-12:bar_pos])\n",
    "    ordered_json_fname=[k for k, v in sorted(d.items(), key=lambda item: item[1])]\n",
    "    keypoints=[]\n",
    "    last_skeleton=None\n",
    "    for j in ordered_json_fname:\n",
    "        jpath=os.path.join(json_dir, j)\n",
    "        with open(jpath) as f:\n",
    "            data = json.load(f)\n",
    "        if len(data['people'])==0:\n",
    "            keypoints.append(process_points_to_np([-999]*75))\n",
    "            last_skeleton=process_points_to_np([-999]*75,convert_to_local=False)\n",
    "        elif len(data['people'])==1:\n",
    "            keypoints.append(process_points_to_np(data['people'][0]['pose_keypoints_2d']))\n",
    "            last_skeleton=process_points_to_np(data['people'][0]['pose_keypoints_2d'],convert_to_local=False)\n",
    "        else:\n",
    "            if len(keypoints)==0:\n",
    "                #If first frame, pick the largest object\n",
    "                maxi=-1\n",
    "                maxv=-1\n",
    "                for k in range(len(data['people'])):\n",
    "                    pts=process_points_to_np(data['people'][k]['pose_keypoints_2d'])\n",
    "                    average_square=0\n",
    "                    nonzero_count=0\n",
    "                    for epts in pts:\n",
    "                        if epts!=0:\n",
    "                            average_square+=(epts*epts)\n",
    "                            nonzero_count+=1\n",
    "                    average_square=average_square/nonzero_count\n",
    "                    if average_square>maxv:\n",
    "                        maxv=average_square\n",
    "                        maxi=k\n",
    "                keypoints.append(process_points_to_np(data['people'][maxi]['pose_keypoints_2d']))\n",
    "                last_skeleton=process_points_to_np(data['people'][maxi]['pose_keypoints_2d'],convert_to_local=False)\n",
    "            else:\n",
    "                minv=np.inf\n",
    "                mini=0\n",
    "                for k in range(len(data['people'])):\n",
    "                    pts=process_points_to_np(data['people'][k]['pose_keypoints_2d'],convert_to_local=False)\n",
    "                    square_diff=np.square(pts-last_skeleton).sum()\n",
    "                    if square_diff<minv:\n",
    "                        minv=square_diff\n",
    "                        mini=k\n",
    "                keypoints.append(process_points_to_np(data['people'][mini]['pose_keypoints_2d']))\n",
    "                last_skeleton=process_points_to_np(data['people'][mini]['pose_keypoints_2d'],convert_to_local=False)\n",
    "\n",
    "    point_buffer=collections.deque(maxlen=temporal_dimension)\n",
    "    out_arr=None\n",
    "    for i in range(temporal_dimension):\n",
    "        point_buffer.append(keypoints[0])\n",
    "    for i in range(len(keypoints)):\n",
    "        point_buffer.append(keypoints[i])\n",
    "        if out_arr is None:\n",
    "            out_arr=np.expand_dims(np.stack(point_buffer,axis=0), axis=0)\n",
    "        else:\n",
    "            current_arr=np.expand_dims(np.stack(point_buffer,axis=0), axis=0)\n",
    "            out_arr=np.concatenate([out_arr,current_arr],axis=0)\n",
    "    return out_arr"
   ]
  },
  {
   "cell_type": "code",
   "execution_count": 8,
   "metadata": {},
   "outputs": [],
   "source": [
    "is_single_file=len(test_fname)==1"
   ]
  },
  {
   "cell_type": "code",
   "execution_count": 13,
   "metadata": {},
   "outputs": [
    {
     "name": "stdout",
     "output_type": "stream",
     "text": [
      "atest1 singleTest\\jsons\n"
     ]
    },
    {
     "data": {
      "image/png": "[encoded data removed]",
      "text/plain": [
       "<Figure size 720x360 with 1 Axes>"
      ]
     },
     "metadata": {
      "needs_background": "light"
     },
     "output_type": "display_data"
    }
   ],
   "source": [
    "for f in test_fname:\n",
    "    Xtest=process_one_file(os.path.join(test_path, f),os.path.join(test_path, 'jsons'),temporal_dim)\n",
    "    if is_single_file:\n",
    "        pltname='timeLabel.png'\n",
    "        jsonname='timeLabel.json'\n",
    "    else:\n",
    "        pltname=os.path.join(test_path,'results/'+f+'.png')\n",
    "        jsonname=os.path.join(test_path,'results/'+f+'.json')\n",
    "    y_pred=model.predict(Xtest)\n",
    "    plt.figure(figsize=(10,5))\n",
    "    plt.ylim(0.0,1.1)\n",
    "    plt.plot(y_pred[:,1])\n",
    "    plt.title(f)\n",
    "    plt.savefig(pltname)\n",
    "    #json\n",
    "    json_out={}\n",
    "    result_list=[]\n",
    "    for i in range(y_pred.shape[0]):\n",
    "        result_list.append([(i/30),y_pred[i,0]])\n",
    "    json_out[\"punch\"]=result_list\n",
    "    with open(jsonname, 'w+') as outfile:\n",
    "        json.dump(str(json_out), outfile)\n",
    "    if is_single_file:\n",
    "        Image.open('timeLabel.png').convert(\"RGB\").save('timeLabel.jpg','JPEG')"
   ]
  },
  {
   "cell_type": "code",
   "execution_count": null,
   "metadata": {},
   "outputs": [],
   "source": []
  }
 ],
 "metadata": {
  "kernelspec": {
   "display_name": "Python 3",
   "language": "python",
   "name": "python3"
  },
  "language_info": {
   "codemirror_mode": {
    "name": "ipython",
    "version": 3
   },
   "file_extension": ".py",
   "mimetype": "text/x-python",
   "name": "python",
   "nbconvert_exporter": "python",
   "pygments_lexer": "ipython3",
   "version": "3.7.5"
  }
 },
 "nbformat": 4,
 "nbformat_minor": 2
}
